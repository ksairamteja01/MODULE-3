{
 "cells": [
  {
   "cell_type": "code",
   "execution_count": 1,
   "metadata": {},
   "outputs": [],
   "source": [
    "#1"
   ]
  },
  {
   "cell_type": "code",
   "execution_count": 2,
   "metadata": {},
   "outputs": [
    {
     "name": "stdout",
     "output_type": "stream",
     "text": [
      "enter a string :sai\n",
      "Count of all characters in GeeksforGeeks is :\n",
      " {'s': 1, 'a': 1, 'i': 1}\n"
     ]
    }
   ],
   "source": [
    "a=input(\"enter a string :\")\n",
    "\n",
    "b=a.strip().lower()\n",
    "\n",
    "   \n",
    "all_freq = {} \n",
    " \n",
    "for i in b: \n",
    "    if i in all_freq: \n",
    "        all_freq[i] += 1\n",
    "    else: \n",
    "        all_freq[i] = 1\n",
    "  \n",
    "\n",
    "print(\"Count of all characters in GeeksforGeeks is :\\n \"+  str(all_freq))"
   ]
  },
  {
   "cell_type": "code",
   "execution_count": 3,
   "metadata": {},
   "outputs": [],
   "source": [
    "#2"
   ]
  },
  {
   "cell_type": "code",
   "execution_count": 7,
   "metadata": {},
   "outputs": [
    {
     "ename": "IndentationError",
     "evalue": "unindent does not match any outer indentation level (<tokenize>, line 13)",
     "output_type": "error",
     "traceback": [
      "\u001b[1;36m  File \u001b[1;32m\"<tokenize>\"\u001b[1;36m, line \u001b[1;32m13\u001b[0m\n\u001b[1;33m    except:\u001b[0m\n\u001b[1;37m    ^\u001b[0m\n\u001b[1;31mIndentationError\u001b[0m\u001b[1;31m:\u001b[0m unindent does not match any outer indentation level\n"
     ]
    }
   ],
   "source": [
    "try:   \n",
    "            num=int(input(\"enter a number :\"))\n",
    "            i=0\n",
    "            sum=0\n",
    "            num1=num\n",
    "            while(num>0):\n",
    "                i=i+1\n",
    "                rem=num%10\n",
    "                sum+=rem\n",
    "                num=num//10\n",
    "            print(\"sum:\",sum)\n",
    "            print(\"average :\",sum/i)\n",
    "        except:\n",
    "            print(\"please enter valid input..!!\")\n",
    "        finally:\n",
    "            print(\"THANK YOU...!!\")"
   ]
  },
  {
   "cell_type": "code",
   "execution_count": null,
   "metadata": {},
   "outputs": [],
   "source": [
    "#3"
   ]
  },
  {
   "cell_type": "code",
   "execution_count": 8,
   "metadata": {},
   "outputs": [
    {
     "name": "stdout",
     "output_type": "stream",
     "text": [
      "enter a string :sairam\n",
      "Count of all characters in GeeksforGeeks is :\n",
      " {'s': 1, 'a': 2, 'i': 1, 'r': 1, 'm': 1}\n"
     ]
    }
   ],
   "source": [
    "a=input(\"enter a string :\") \n",
    "all_freq = {} \n",
    " \n",
    "for i in a: \n",
    "    if i in all_freq: \n",
    "        all_freq[i] += 1\n",
    "    else: \n",
    "        all_freq[i] = 1\n",
    "  \n",
    "\n",
    "print(\"Count of all characters in GeeksforGeeks is :\\n \"+  str(all_freq))"
   ]
  },
  {
   "cell_type": "code",
   "execution_count": null,
   "metadata": {},
   "outputs": [],
   "source": [
    "#4"
   ]
  },
  {
   "cell_type": "code",
   "execution_count": 9,
   "metadata": {},
   "outputs": [
    {
     "name": "stdout",
     "output_type": "stream",
     "text": [
      "enter a string:python\n"
     ]
    },
    {
     "data": {
      "text/plain": [
       "['h', 'n', 'o', 'p', 't', 'y']"
      ]
     },
     "execution_count": 9,
     "metadata": {},
     "output_type": "execute_result"
    }
   ],
   "source": [
    "c=input(\"enter a string:\")\n",
    "sorted(c, key=str.lower)"
   ]
  },
  {
   "cell_type": "code",
   "execution_count": null,
   "metadata": {},
   "outputs": [],
   "source": [
    "#5"
   ]
  },
  {
   "cell_type": "code",
   "execution_count": 10,
   "metadata": {},
   "outputs": [
    {
     "name": "stdout",
     "output_type": "stream",
     "text": [
      "enter string 1 :python\n",
      "enter string 2 :anaconda\n",
      "pytanacondahon\n"
     ]
    }
   ],
   "source": [
    "s1=input(\"enter string 1 :\")\n",
    "s2=input(\"enter string 2 :\")\n",
    "\n",
    "a=(len(s1)//2)\n",
    "\n",
    "str=s1[:a]+s2+s1[a:]\n",
    "print(str)"
   ]
  },
  {
   "cell_type": "code",
   "execution_count": null,
   "metadata": {},
   "outputs": [],
   "source": []
  }
 ],
 "metadata": {
  "kernelspec": {
   "display_name": "Python 3",
   "language": "python",
   "name": "python3"
  },
  "language_info": {
   "codemirror_mode": {
    "name": "ipython",
    "version": 3
   },
   "file_extension": ".py",
   "mimetype": "text/x-python",
   "name": "python",
   "nbconvert_exporter": "python",
   "pygments_lexer": "ipython3",
   "version": "3.8.3"
  }
 },
 "nbformat": 4,
 "nbformat_minor": 4
}
