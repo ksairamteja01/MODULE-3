{
 "cells": [
  {
   "cell_type": "code",
   "execution_count": 1,
   "metadata": {},
   "outputs": [],
   "source": [
    "#1"
   ]
  },
  {
   "cell_type": "code",
   "execution_count": null,
   "metadata": {},
   "outputs": [],
   "source": [
    "a=input(\"enter your string :\")\n",
    "\n",
    "vowels='aeiou'\n",
    "count=0\n",
    "for s in string:\n",
    "    if s in vowels:\n",
    "        count=count+1\n",
    "print(\"\",counr)"
   ]
  },
  {
   "cell_type": "code",
   "execution_count": null,
   "metadata": {},
   "outputs": [],
   "source": [
    "#2"
   ]
  },
  {
   "cell_type": "code",
   "execution_count": null,
   "metadata": {},
   "outputs": [],
   "source": [
    "word=input(\"enter your string :\")\n",
    "NewWord = \" \"\n",
    "index = 0\n",
    "for char in word:\n",
    "    if char != NewWord[index]:\n",
    "            NewWord += char\n",
    "            index += 1\n",
    "     \n",
    "print(NewWord.strip())"
   ]
  },
  {
   "cell_type": "code",
   "execution_count": null,
   "metadata": {},
   "outputs": [],
   "source": [
    "#3"
   ]
  },
  {
   "cell_type": "code",
   "execution_count": null,
   "metadata": {},
   "outputs": [],
   "source": [
    "d=input(\"enter the string :\")\n",
    "\n",
    "words = d.split() \n",
    "j=0\n",
    "for i in words:\n",
    "    if(len(words[j])%2==0):\n",
    "        print(\"word's are :\",i)\n",
    "        j=j+1"
   ]
  },
  {
   "cell_type": "code",
   "execution_count": null,
   "metadata": {},
   "outputs": [],
   "source": [
    "#4"
   ]
  },
  {
   "cell_type": "code",
   "execution_count": null,
   "metadata": {},
   "outputs": [],
   "source": [
    "e=input(\"enter the string :\")\n",
    "\n",
    "words = e.split() \n",
    "\n",
    "for i in words:\n",
    "    print(\"\",words[::-1])"
   ]
  },
  {
   "cell_type": "code",
   "execution_count": null,
   "metadata": {},
   "outputs": [],
   "source": [
    "#5"
   ]
  },
  {
   "cell_type": "code",
   "execution_count": null,
   "metadata": {},
   "outputs": [],
   "source": [
    "k=input(\"enter your string :\")\n",
    "\n",
    "i=0\n",
    "j=1\n",
    "while(i<len(k)):\n",
    "    if(k[i]==\"0\" or k[i]==\"1\"):\n",
    "        print(\"ITS A BINARY STRING\")\n",
    "        break\n",
    "        \n",
    "    else:\n",
    "        j=0\n",
    "        i=i+1\n",
    "        \n",
    "if(j==0):\n",
    "    print(\"NOPE NOT A BINARY STRING\")"
   ]
  }
 ],
 "metadata": {
  "kernelspec": {
   "display_name": "Python 3",
   "language": "python",
   "name": "python3"
  },
  "language_info": {
   "codemirror_mode": {
    "name": "ipython",
    "version": 3
   },
   "file_extension": ".py",
   "mimetype": "text/x-python",
   "name": "python",
   "nbconvert_exporter": "python",
   "pygments_lexer": "ipython3",
   "version": "3.8.3"
  }
 },
 "nbformat": 4,
 "nbformat_minor": 4
}
